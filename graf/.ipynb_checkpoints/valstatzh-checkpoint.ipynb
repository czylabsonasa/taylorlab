{
 "cells": [
  {
   "cell_type": "markdown",
   "metadata": {},
   "source": [
    "### Sűrűség fv.: \n",
    "$$\n",
    "f:\\mathbb{R}\\to \\mathbb{R} \\\\\n",
    "f\\ge 0 \\\\\n",
    "\\int_{-\\infty}^{\\infty} f = 1\n",
    "$$"
   ]
  },
  {
   "cell_type": "markdown",
   "metadata": {},
   "source": [
    "### Rövidebb eloszlása.\n",
    "Legyen $\\xi\\in [0,1]$ a törés helye. $\\eta=\\min(\\xi,1-\\xi)\\in [0,\\frac{1}{2}]$ eloszlása kell.\n",
    "$$\n",
    "F_{\\eta}(x)=P(\\eta<x)=1-P(\\eta\\ge x)=\\\\\n",
    "=1-P(\\xi>x,1-\\xi>x)=P(x<\\xi<1-x)=\\\\\n",
    "=1-\\left(F_{U(0,1)}(1-x)-F_{U(0,1)}(x)\\right)=1-(1-2x)=2x\n",
    "$$\n",
    "ha $x\\in [0,\\frac{1}{2}]$. Látjuk, hogy $\\eta \\sim U(0,\\frac{1}{2})$.<br> \n",
    "Sűrűségfv. házi feladat.\n"
   ]
  },
  {
   "cell_type": "code",
   "execution_count": null,
   "metadata": {},
   "outputs": [],
   "source": []
  }
 ],
 "metadata": {
  "kernelspec": {
   "display_name": "Octave",
   "language": "octave",
   "name": "octave"
  },
  "language_info": {
   "file_extension": ".m",
   "help_links": [
    {
     "text": "GNU Octave",
     "url": "https://www.gnu.org/software/octave/support.html"
    },
    {
     "text": "Octave Kernel",
     "url": "https://github.com/Calysto/octave_kernel"
    },
    {
     "text": "MetaKernel Magics",
     "url": "https://metakernel.readthedocs.io/en/latest/source/README.html"
    }
   ],
   "mimetype": "text/x-octave",
   "name": "octave",
   "version": "4.2.2"
  }
 },
 "nbformat": 4,
 "nbformat_minor": 2
}
