{
 "cells": [
  {
   "cell_type": "code",
   "execution_count": 1,
   "metadata": {
    "ExecuteTime": {
     "end_time": "2020-06-02T06:23:27.103658Z",
     "start_time": "2020-06-02T06:23:26.742004Z"
    }
   },
   "outputs": [],
   "source": [
    "import networkx as nx\n",
    "import random as rn\n",
    "import math\n",
    "import numpy as np\n",
    "import matplotlib.pyplot as plt\n",
    "from collections import Counter ####\n"
   ]
  },
  {
   "cell_type": "code",
   "execution_count": 2,
   "metadata": {
    "ExecuteTime": {
     "end_time": "2020-06-02T06:23:36.100726Z",
     "start_time": "2020-06-02T06:23:36.044983Z"
    }
   },
   "outputs": [
    {
     "name": "stdout",
     "output_type": "stream",
     "text": [
      "connected -> False\n",
      "csúcszám ->  2427\n"
     ]
    }
   ],
   "source": [
    "# G = nx.read_edgelist(\"deezerca-AstroPh/out.ca-AstroPh\", nodetype=int, comments='%')\n",
    "# G = nx.read_edgelist(\"ca-AstroPh/out.ca-AstroPh\", nodetype=int, comments='%')\n",
    "G = nx.read_edgelist(\"14_soc-hamsterster.edges\", nodetype=int)\n",
    "# G = nx.dense_gnm_random_graph(10000,30000)\n",
    "# plt.show()\n",
    "# nx.draw(G, with_labels=False)\n",
    "nv=nx.number_of_nodes(G)\n",
    "oszt=list(range(nv+10))\n",
    "print(\"connected -> \" + str(nx.is_connected(G)))\n",
    "print(\"csúcszám -> \", nx.number_of_nodes(G))"
   ]
  },
  {
   "cell_type": "code",
   "execution_count": 3,
   "metadata": {
    "ExecuteTime": {
     "end_time": "2020-06-02T06:23:40.889800Z",
     "start_time": "2020-06-02T06:23:40.882510Z"
    }
   },
   "outputs": [],
   "source": [
    "def vegigMegy():\n",
    "    volt=False\n",
    "    for v in G.nodes():\n",
    "        szT=[oszt[sz] for sz in G.neighbors(v)]\n",
    "        gyak=[szT.count(v) for v in range(nv+10)]\n",
    "        mx=max(gyak)\n",
    "        maxok=[v for v in range(nv+10) if gyak[v]==mx ]\n",
    "        if gyak[oszt[v]]<mx:\n",
    "            volt=True\n",
    "            oszt[v]=maxok[rn.randint(0,len(maxok)-1)]\n",
    "    return volt\n",
    "        "
   ]
  },
  {
   "cell_type": "code",
   "execution_count": 4,
   "metadata": {
    "ExecuteTime": {
     "end_time": "2020-06-02T06:23:48.023753Z",
     "start_time": "2020-06-02T06:23:41.915254Z"
    }
   },
   "outputs": [],
   "source": [
    "while True==vegigMegy():\n",
    "    pass\n",
    "#print(oszt)"
   ]
  },
  {
   "cell_type": "code",
   "execution_count": 6,
   "metadata": {
    "ExecuteTime": {
     "end_time": "2020-05-28T19:30:46.947829Z",
     "start_time": "2020-05-28T19:30:46.813640Z"
    }
   },
   "outputs": [],
   "source": [
    "eredm=[[1,1,1] for _ in range(nv+10)]\n",
    "for v in range(nv+10): \n",
    "    szv=oszt[v]\n",
    "    if v in G: \n",
    "        degv=sum([oszt[szom]==szv for szom in G.neighbors(v)]) \n",
    "        eredm[szv][0]+=degv \n",
    "        eredm[szv][1]+=degv*degv \n",
    "        eredm[szv][2]+=1"
   ]
  },
  {
   "cell_type": "code",
   "execution_count": 7,
   "metadata": {
    "ExecuteTime": {
     "end_time": "2020-05-28T19:30:47.775136Z",
     "start_time": "2020-05-28T19:30:47.764080Z"
    }
   },
   "outputs": [],
   "source": [
    "prexy=[v for v in eredm if v[2]!=0]"
   ]
  },
  {
   "cell_type": "code",
   "execution_count": 8,
   "metadata": {
    "ExecuteTime": {
     "end_time": "2020-05-28T19:30:48.566572Z",
     "start_time": "2020-05-28T19:30:48.515409Z"
    }
   },
   "outputs": [],
   "source": [
    "f=lambda x: [math.log(x[0]/(math.log(x[2])+1)), math.log(x[1]/(math.log(x[2])+1))]\n",
    "xy=list(map(f,prexy))\n"
   ]
  },
  {
   "cell_type": "code",
   "execution_count": 9,
   "metadata": {
    "ExecuteTime": {
     "end_time": "2020-05-28T19:30:49.558546Z",
     "start_time": "2020-05-28T19:30:49.340442Z"
    }
   },
   "outputs": [
    {
     "name": "stdout",
     "output_type": "stream",
     "text": [
      "y = -0.0023447559358197104  +  1.5894443687177409  * x\n"
     ]
    }
   ],
   "source": [
    "from sklearn.linear_model import LinearRegression\n",
    "x = np.asarray([[p[0]] for p in xy])\n",
    "y = np.asarray([p[1] for p in xy])\n",
    "model = LinearRegression().fit(x, y)\n",
    "predict_y = model.predict(x)\n",
    "b0=model.intercept_\n",
    "b1=model.coef_\n",
    "print('y =', b0, \" + \", b1[0], \" * x\")\n"
   ]
  },
  {
   "cell_type": "code",
   "execution_count": 10,
   "metadata": {
    "ExecuteTime": {
     "end_time": "2020-05-28T19:30:53.130882Z",
     "start_time": "2020-05-28T19:30:53.116227Z"
    }
   },
   "outputs": [
    {
     "name": "stdout",
     "output_type": "stream",
     "text": [
      "corr:  0.9963     coef:  0.9927\n",
      "max: 0.2657     rss: 0.0010\n"
     ]
    }
   ],
   "source": [
    "r_sq = model.score(x, y)\n",
    "print('corr: ', end=' ')\n",
    "print(format(np.corrcoef([p[0] for p in xy],[p[1] for p in xy])[0,1],'.4f'), end='     ')\n",
    "print('coef: ', end=' ')\n",
    "print(format( r_sq, '.4f'))\n",
    "\n",
    "print('max: ', end='')\n",
    "print(format(np.max(y-predict_y), '.4f'),end='     ')\n",
    "rss=np.average(np.square(y-predict_y))\n",
    "print('rss: ', end='')\n",
    "print(format(rss,'.4f'))"
   ]
  },
  {
   "cell_type": "code",
   "execution_count": 11,
   "metadata": {
    "ExecuteTime": {
     "end_time": "2020-05-28T19:30:54.667176Z",
     "start_time": "2020-05-28T19:30:54.665191Z"
    }
   },
   "outputs": [],
   "source": [
    "#plt.show()\n",
    "#nx.draw(G, with_labels=False, node_color = oszt)\n",
    "#plt.savefig(\"15_soc-hamsterster.edges_network.png\")\n",
    "\n",
    "#plt.scatter([p[0] for p in xy],[p[1] for p in xy])\n",
    "#t = np.arange(0., 4, 0.2)\n",
    "#plt.plot(t, b0+b1*t, 'r--')\n",
    "#plt.axis([0, 5, 0, 5])\n",
    "#plt.savefig(\"14_soc-hamsterster.png\")\n"
   ]
  },
  {
   "cell_type": "code",
   "execution_count": 12,
   "metadata": {
    "ExecuteTime": {
     "end_time": "2020-05-28T19:30:55.999093Z",
     "start_time": "2020-05-28T19:30:55.740306Z"
    }
   },
   "outputs": [
    {
     "name": "stdout",
     "output_type": "stream",
     "text": [
      "max: 0.2657     rss: 0.0010\n"
     ]
    },
    {
     "data": {
      "text/plain": [
       "[<matplotlib.lines.Line2D at 0x7f9f501d0410>]"
      ]
     },
     "execution_count": 12,
     "metadata": {},
     "output_type": "execute_result"
    },
    {
     "data": {
      "image/png": "[encoded data removed]",
      "text/plain": [
       "<Figure size 432x288 with 1 Axes>"
      ]
     },
     "metadata": {
      "needs_background": "light"
     },
     "output_type": "display_data"
    }
   ],
   "source": [
    "plt.scatter(x,y)\n",
    "#plt.scatter(x,predict_y)\n",
    "\n",
    "print('max: ', end='')\n",
    "print(format(np.max(y-predict_y), '.4f'),end='     ')\n",
    "#rss=np.average(np.square(y-predict_y))\n",
    "print('rss: ', end='')\n",
    "print(format(rss,'.4f'))\n",
    "#plt.axis([0, 5, 0, 9])\n",
    "\n",
    "t = np.arange(0., 9, 0.2)\n",
    "plt.plot(t, b0+b1*t, 'r--')\n",
    "#plt.savefig(\"14_soc-hamsterster_line.png\")\n",
    "\n"
   ]
  },
  {
   "cell_type": "code",
   "execution_count": null,
   "metadata": {},
   "outputs": [],
   "source": []
  },
  {
   "cell_type": "code",
   "execution_count": null,
   "metadata": {},
   "outputs": [],
   "source": []
  }
 ],
 "metadata": {
  "kernelspec": {
   "display_name": "Python 3",
   "language": "python",
   "name": "python3"
  },
  "language_info": {
   "codemirror_mode": {
    "name": "ipython",
    "version": 3
   },
   "file_extension": ".py",
   "mimetype": "text/x-python",
   "name": "python",
   "nbconvert_exporter": "python",
   "pygments_lexer": "ipython3",
   "version": "3.7.6"
  },
  "latex_envs": {
   "LaTeX_envs_menu_present": true,
   "autoclose": false,
   "autocomplete": true,
   "bibliofile": "biblio.bib",
   "cite_by": "apalike",
   "current_citInitial": 1,
   "eqLabelWithNumbers": false,
   "eqNumInitial": 1,
   "hotkeys": {
    "equation": "Ctrl-E",
    "itemize": "Ctrl-I"
   },
   "labels_anchors": false,
   "latex_user_defs": false,
   "report_style_numbering": false,
   "user_envs_cfg": false
  },
  "toc": {
   "base_numbering": 1,
   "nav_menu": {},
   "number_sections": true,
   "sideBar": true,
   "skip_h1_title": true,
   "title_cell": "Table of Contents",
   "title_sidebar": "Contents",
   "toc_cell": false,
   "toc_position": {},
   "toc_section_display": true,
   "toc_window_display": false
  }
 },
 "nbformat": 4,
 "nbformat_minor": 2
}
