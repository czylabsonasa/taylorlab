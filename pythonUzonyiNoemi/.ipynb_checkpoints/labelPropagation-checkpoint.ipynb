{
 "cells": [
  {
   "cell_type": "code",
   "execution_count": 54,
   "metadata": {
    "ExecuteTime": {
     "end_time": "2020-05-28T19:09:00.587291Z",
     "start_time": "2020-05-28T19:09:00.579804Z"
    }
   },
   "outputs": [],
   "source": [
    "import networkx as nx\n",
    "import random as rn\n",
    "import math\n",
    "import numpy as np\n",
    "import matplotlib.pyplot as plt\n",
    "from collections import Counter ####\n"
   ]
  },
  {
   "cell_type": "code",
   "execution_count": 55,
   "metadata": {
    "ExecuteTime": {
     "end_time": "2020-05-28T19:09:01.057031Z",
     "start_time": "2020-05-28T19:09:00.990170Z"
    }
   },
   "outputs": [
    {
     "name": "stdout",
     "output_type": "stream",
     "text": [
      "csúcszám:  2427\n"
     ]
    }
   ],
   "source": [
    "\n",
    "G = nx.read_edgelist(\"14_soc-hamsterster.edges\", nodetype=int)\n",
    "#G = nx.dense_gnm_random_graph(10000,30000)\n",
    "#plt.show()\n",
    "#nx.draw(G, with_labels=False)\n",
    "nv=nx.number_of_nodes(G)\n",
    "oszt=list(range(nv+10))\n",
    "nx.is_connected(G)\n",
    "print(\"csúcszám: \", nx.number_of_nodes(G))"
   ]
  },
  {
   "cell_type": "code",
   "execution_count": 56,
   "metadata": {
    "ExecuteTime": {
     "end_time": "2020-05-28T19:09:01.572985Z",
     "start_time": "2020-05-28T19:09:01.554970Z"
    }
   },
   "outputs": [],
   "source": [
    "def vegigMegy():\n",
    "    volt=False\n",
    "    for v in G.nodes():\n",
    "        szT=[oszt[sz] for sz in G.neighbors(v)]\n",
    "        gyak=[szT.count(v) for v in range(nv+10)]\n",
    "        mx=max(gyak)\n",
    "        maxok=[v for v in range(nv+10) if gyak[v]==mx ]\n",
    "        if gyak[oszt[v]]<mx:\n",
    "            volt=True\n",
    "            oszt[v]=maxok[rn.randint(0,len(maxok)-1)]\n",
    "    return volt\n",
    "        "
   ]
  },
  {
   "cell_type": "code",
   "execution_count": 57,
   "metadata": {
    "ExecuteTime": {
     "end_time": "2020-05-28T19:09:02.564513Z",
     "start_time": "2020-05-28T19:09:02.560038Z"
    }
   },
   "outputs": [],
   "source": [
    "def vegigMegy2():\n",
    "    volt=False\n",
    "    for v in G.nodes():\n",
    "        szT=[oszt[sz] for sz in G.neighbors(v)]\n",
    "        cnt=Counter(szT)\n",
    "        mx=max(cnt.values())\n",
    "        maxok=[k for k in cnt.keys() if cnt[k]==mx ]\n",
    "        if cnt[oszt[v]]<mx:\n",
    "            volt=True\n",
    "            oszt[v]=maxok[rn.randint(0,len(maxok)-1)]\n",
    "    return volt\n"
   ]
  },
  {
   "cell_type": "code",
   "execution_count": 58,
   "metadata": {
    "ExecuteTime": {
     "end_time": "2020-05-28T19:09:04.496439Z",
     "start_time": "2020-05-28T19:09:04.440148Z"
    }
   },
   "outputs": [],
   "source": [
    "while True==vegigMegy2():\n",
    "    pass\n",
    "#print(oszt)"
   ]
  },
  {
   "cell_type": "code",
   "execution_count": 59,
   "metadata": {
    "ExecuteTime": {
     "end_time": "2020-05-28T19:09:07.062020Z",
     "start_time": "2020-05-28T19:09:07.026956Z"
    }
   },
   "outputs": [],
   "source": [
    "eredm=[[1,1,1] for _ in range(nv+10)]\n",
    "for v in range(nv+10): \n",
    "    szv=oszt[v]\n",
    "    if v in G: \n",
    "        degv=sum([oszt[szom]==szv for szom in G.neighbors(v)]) \n",
    "        eredm[szv][0]+=degv \n",
    "        eredm[szv][1]+=degv*degv \n",
    "        eredm[szv][2]+=1"
   ]
  },
  {
   "cell_type": "code",
   "execution_count": 60,
   "metadata": {
    "ExecuteTime": {
     "end_time": "2020-05-28T19:09:07.485966Z",
     "start_time": "2020-05-28T19:09:07.476813Z"
    }
   },
   "outputs": [],
   "source": [
    "prexy=[v for v in eredm if v[2]!=0]"
   ]
  },
  {
   "cell_type": "code",
   "execution_count": 61,
   "metadata": {
    "ExecuteTime": {
     "end_time": "2020-05-28T19:09:08.031512Z",
     "start_time": "2020-05-28T19:09:08.003466Z"
    }
   },
   "outputs": [],
   "source": [
    "f=lambda x: [math.log(x[0]/(math.log(x[2])+1)), math.log(x[1]/(math.log(x[2])+1))]\n",
    "xy=list(map(f,prexy))\n"
   ]
  },
  {
   "cell_type": "code",
   "execution_count": 62,
   "metadata": {
    "ExecuteTime": {
     "end_time": "2020-05-28T19:09:08.618589Z",
     "start_time": "2020-05-28T19:09:08.595640Z"
    }
   },
   "outputs": [
    {
     "name": "stdout",
     "output_type": "stream",
     "text": [
      "y = -0.007475741856131535  +  1.5964401606270906  * x\n"
     ]
    }
   ],
   "source": [
    "from sklearn.linear_model import LinearRegression\n",
    "x = np.asarray([[p[0]] for p in xy])\n",
    "y = np.asarray([p[1] for p in xy])\n",
    "model = LinearRegression().fit(x, y)\n",
    "predict_y = model.predict(x)\n",
    "b0=model.intercept_\n",
    "b1=model.coef_\n",
    "print('y =', b0, \" + \", b1[0], \" * x\")\n"
   ]
  },
  {
   "cell_type": "code",
   "execution_count": 63,
   "metadata": {
    "ExecuteTime": {
     "end_time": "2020-05-28T19:09:09.324097Z",
     "start_time": "2020-05-28T19:09:09.292260Z"
    }
   },
   "outputs": [
    {
     "name": "stdout",
     "output_type": "stream",
     "text": [
      "corr:  0.9963     coef:  0.9926\n",
      "max: 0.2412     rss: 0.0029\n"
     ]
    }
   ],
   "source": [
    "r_sq = model.score(x, y)\n",
    "print('corr: ', end=' ')\n",
    "print(format(np.corrcoef([p[0] for p in xy],[p[1] for p in xy])[0,1],'.4f'), end='     ')\n",
    "print('coef: ', end=' ')\n",
    "print(format( r_sq, '.4f'))\n",
    "\n",
    "print('max: ', end='')\n",
    "print(format(np.max(y-predict_y), '.4f'),end='     ')\n",
    "rss=np.average(np.square(y-predict_y))\n",
    "print('rss: ', end='')\n",
    "print(format(rss,'.4f'))"
   ]
  },
  {
   "cell_type": "code",
   "execution_count": 64,
   "metadata": {
    "ExecuteTime": {
     "end_time": "2020-05-28T19:09:14.135965Z",
     "start_time": "2020-05-28T19:09:14.131200Z"
    }
   },
   "outputs": [],
   "source": [
    "#plt.show()\n",
    "#nx.draw(G, with_labels=False, node_color = oszt)\n",
    "#plt.savefig(\"15_soc-hamsterster.edges_network.png\")\n",
    "\n",
    "#plt.scatter([p[0] for p in xy],[p[1] for p in xy])\n",
    "#t = np.arange(0., 4, 0.2)\n",
    "#plt.plot(t, b0+b1*t, 'r--')\n",
    "#plt.axis([0, 5, 0, 5])\n",
    "#plt.savefig(\"14_soc-hamsterster.png\")\n"
   ]
  },
  {
   "cell_type": "code",
   "execution_count": 65,
   "metadata": {
    "ExecuteTime": {
     "end_time": "2020-05-28T19:09:15.259170Z",
     "start_time": "2020-05-28T19:09:15.109415Z"
    }
   },
   "outputs": [
    {
     "name": "stdout",
     "output_type": "stream",
     "text": [
      "max: 0.2412     rss: 0.0029\n"
     ]
    },
    {
     "data": {
      "text/plain": [
       "[<matplotlib.lines.Line2D at 0x7fc0ec5d4e10>]"
      ]
     },
     "execution_count": 65,
     "metadata": {},
     "output_type": "execute_result"
    },
    {
     "data": {
      "image/png": "[encoded data removed]",
      "text/plain": [
       "<Figure size 432x288 with 1 Axes>"
      ]
     },
     "metadata": {
      "needs_background": "light"
     },
     "output_type": "display_data"
    }
   ],
   "source": [
    "plt.scatter(x,y)\n",
    "#plt.scatter(x,predict_y)\n",
    "\n",
    "print('max: ', end='')\n",
    "print(format(np.max(y-predict_y), '.4f'),end='     ')\n",
    "#rss=np.average(np.square(y-predict_y))\n",
    "print('rss: ', end='')\n",
    "print(format(rss,'.4f'))\n",
    "#plt.axis([0, 5, 0, 9])\n",
    "\n",
    "t = np.arange(0., 9, 0.2)\n",
    "plt.plot(t, b0+b1*t, 'r--')\n",
    "#plt.savefig(\"14_soc-hamsterster_line.png\")\n",
    "\n"
   ]
  },
  {
   "cell_type": "code",
   "execution_count": null,
   "metadata": {},
   "outputs": [],
   "source": []
  },
  {
   "cell_type": "code",
   "execution_count": null,
   "metadata": {},
   "outputs": [],
   "source": []
  }
 ],
 "metadata": {
  "kernelspec": {
   "display_name": "Python 3",
   "language": "python",
   "name": "python3"
  },
  "language_info": {
   "codemirror_mode": {
    "name": "ipython",
    "version": 3
   },
   "file_extension": ".py",
   "mimetype": "text/x-python",
   "name": "python",
   "nbconvert_exporter": "python",
   "pygments_lexer": "ipython3",
   "version": "3.7.6"
  }
 },
 "nbformat": 4,
 "nbformat_minor": 2
}
