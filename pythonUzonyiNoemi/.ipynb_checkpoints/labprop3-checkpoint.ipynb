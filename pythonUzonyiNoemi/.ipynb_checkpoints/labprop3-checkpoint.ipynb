{
 "cells": [
  {
   "cell_type": "code",
   "execution_count": 3,
   "metadata": {
    "ExecuteTime": {
     "end_time": "2020-06-02T14:13:21.696272Z",
     "start_time": "2020-06-02T14:13:21.336002Z"
    }
   },
   "outputs": [],
   "source": [
    "import networkx as nx\n",
    "import random as rn\n",
    "import math\n",
    "import numpy as np\n",
    "import matplotlib.pyplot as plt\n",
    "from collections import Counter ####\n",
    "import sys\n"
   ]
  },
  {
   "cell_type": "code",
   "execution_count": 4,
   "metadata": {
    "ExecuteTime": {
     "end_time": "2020-06-02T14:13:23.183699Z",
     "start_time": "2020-06-02T14:13:22.313470Z"
    }
   },
   "outputs": [
    {
     "name": "stdout",
     "output_type": "stream",
     "text": [
      "összefüggőség -> True\n",
      "csúcszám -> 47538\n",
      "min/max csúcs-index ->  0 47537\n",
      "True\n"
     ]
    }
   ],
   "source": [
    "# OLVAS\n",
    "# G = nx.karate_club_graph()\n",
    "G = nx.read_edgelist(\"deezer_clean_data/HU_edges.csv\", nodetype=int, comments=\"%\", delimiter=\",\", data=False)\n",
    "# G = nx.read_edgelist(\"actor-collaboration/out.actor-collaboration\", nodetype=int, comments='%')\n",
    "# G = nx.read_edgelist(\"ca-AstroPh/out.ca-AstroPh\", nodetype=int, comments='%')\n",
    "# G = nx.read_edgelist(\"14_soc-hamsterster.edges\", nodetype=int)\n",
    "# G = nx.dense_gnm_random_graph(100,1000)\n",
    "# plt.show()\n",
    "# nx.draw(G, with_labels=False)\n",
    "\n",
    "# \n",
    "nV = nx.number_of_nodes(G)\n",
    "print(\"összefüggőség -> \" + str( nx.is_connected(G) ) )\n",
    "print(\"csúcszám -> \" + str( nV ))\n",
    "print(\"min/max csúcs-index -> \", min(G.nodes()), max(G.nodes()))\n",
    "\n",
    "def előzetes(G): # a csúcsok indexelése 0...csúcsok száma -1 legyen\n",
    "  nodes=list(G.nodes())\n",
    "  if len(nodes)-1==max(nodes) and min(nodes)==0:\n",
    "    return True\n",
    "  return False\n",
    "\n",
    "print(előzetes(G))\n",
    "  \n",
    "      "
   ]
  },
  {
   "cell_type": "code",
   "execution_count": 5,
   "metadata": {
    "ExecuteTime": {
     "end_time": "2020-06-02T14:13:23.917988Z",
     "start_time": "2020-06-02T14:13:23.910047Z"
    }
   },
   "outputs": [],
   "source": [
    "def labProp(G, sorrend, csatlakozás, th=0.0):\n",
    "  nE=G.number_of_edges()\n",
    "  osztály = list(range(G.number_of_nodes()))\n",
    "  osztályméret=[1 for _ in range(G.number_of_nodes())] \n",
    "  feszültség=[2*G.number_of_edges()] # azon fokszámok összege melyekre nem teljesül a maximalitási feltétel\n",
    "  nodes=list(G.nodes())\n",
    "\n",
    "  def egyKör():\n",
    "    volt=False\n",
    "    sorrend(nodes)\n",
    "    for v in nodes:\n",
    "      (váltás, különbség) = csatlakozás(G,v,osztály,osztályméret)\n",
    "      if váltás == True:\n",
    "        M = feszültség[-1]-különbség\n",
    "        feszültség.append(M)\n",
    "        volt = True\n",
    "    return volt\n",
    "\n",
    "  while egyKör() == True and feszültség[-1]/(2*nE)>th:\n",
    "      pass\n",
    "\n",
    "  return (osztály, feszültség)\n",
    "  #return szín\n",
    "      "
   ]
  },
  {
   "cell_type": "code",
   "execution_count": 6,
   "metadata": {
    "ExecuteTime": {
     "end_time": "2020-06-02T14:13:37.145043Z",
     "start_time": "2020-06-02T14:13:31.722878Z"
    }
   },
   "outputs": [
    {
     "name": "stdout",
     "output_type": "stream",
     "text": [
      "70 4449 0.5044843351115139\n"
     ]
    },
    {
     "data": {
      "image/png": "[encoded data removed]",
      "text/plain": [
       "<Figure size 432x288 with 1 Axes>"
      ]
     },
     "metadata": {
      "needs_background": "light"
     },
     "output_type": "display_data"
    }
   ],
   "source": [
    "# sorrendek:\n",
    "véletlen=lambda x: rn.shuffle(x)\n",
    "sima=lambda x: None\n",
    "\n",
    "# csatlakozások:\n",
    "def mohó(G, v, osztály, osztályméret): # a legnagyobbak közül választ\n",
    "  gyakoriság = Counter([ osztály[ szomszéd ] for szomszéd in G.neighbors(v)])\n",
    "  sajátgyak = gyakoriság[ osztály[v] ]\n",
    "  maxgyak = max( gyakoriság.values() )\n",
    "  if sajátgyak < maxgyak:\n",
    "    maxhelyek = [ k for k in gyakoriság.keys() if gyakoriság[k]==maxgyak ]\n",
    "    osztály[v] = maxhelyek[ rn.randint(0,len(maxhelyek)-1) ]\n",
    "    return (True, 2*(maxgyak-sajátgyak))\n",
    "  return (False, None)\n",
    "\n",
    "def óvatos(G, v, osztály, osztályméret): # valamelyik nagyobbat választja\n",
    "  gyakoriság = Counter([ osztály[ szomszéd ] for szomszéd in G.neighbors(v)])\n",
    "  sajátgyak = gyakoriság[ osztály[v] ]\n",
    "  maxgyak = max( gyakoriság.values() )\n",
    "  if sajátgyak < maxgyak:\n",
    "    nagyobbak = [ k for k in gyakoriság.keys() if gyakoriság[k]>sajátgyak ]\n",
    "    osztály[v] = nagyobbak[ rn.randint(0,len(nagyobbak)-1) ]\n",
    "    return (True, 2*(gyakoriság[osztály[v]]-sajátgyak))\n",
    "  return (False, None)\n",
    "\n",
    "\n",
    "sys.setrecursionlimit(nV+100)\n",
    "def utómunka(G, osztály): # átcimkézés, nemösszefüggő azonos színek módosítása\n",
    "  újo=0\n",
    "  régio=0\n",
    "  def bejár(v):\n",
    "    for szomszéd in G.neighbors(v):\n",
    "      if osztály[szomszéd]==régio:\n",
    "        osztály[szomszéd]=újo\n",
    "        bejár(szomszéd)\n",
    "\n",
    "  for v in G.nodes():\n",
    "    if osztály[v]>=0: # még nem járt itt\n",
    "      régio=osztály[v]\n",
    "      újo-=1\n",
    "      osztály[v]=újo\n",
    "      bejár(v)\n",
    "\n",
    "  for v in G.nodes():\n",
    "    osztály[v]= -osztály[v]-1 # 0...osztályok száma-1\n",
    "\n",
    "\n",
    "(osztály, feszültség) = labProp(G, sima, mohó, 0.1)\n",
    "plt.plot(range(len(feszültség)),feszültség, ms=10)\n",
    "marad0 = len(set(osztály))\n",
    "utómunka(G,osztály)\n",
    "marad = len(set(osztály))\n",
    "print(marad-marad0, marad, feszültség[-1]/(2*G.number_of_edges()))    \n"
   ]
  },
  {
   "cell_type": "code",
   "execution_count": 98,
   "metadata": {
    "ExecuteTime": {
     "end_time": "2020-06-02T13:59:13.879545Z",
     "start_time": "2020-06-02T13:59:13.877279Z"
    }
   },
   "outputs": [],
   "source": [
    "#print(osztály)"
   ]
  },
  {
   "cell_type": "code",
   "execution_count": 7,
   "metadata": {
    "ExecuteTime": {
     "end_time": "2020-06-02T14:13:42.941680Z",
     "start_time": "2020-06-02T14:13:42.449093Z"
    }
   },
   "outputs": [
    {
     "ename": "TypeError",
     "evalue": "'>' not supported between instances of 'float' and 'function'",
     "output_type": "error",
     "traceback": [
      "\u001b[0;31m---------------------------------------------------------------------------\u001b[0m",
      "\u001b[0;31mTypeError\u001b[0m                                 Traceback (most recent call last)",
      "\u001b[0;32m<ipython-input-7-4218bac87988>\u001b[0m in \u001b[0;36m<module>\u001b[0;34m\u001b[0m\n\u001b[1;32m     17\u001b[0m \u001b[0m_\u001b[0m\u001b[0;34m,\u001b[0m \u001b[0mhG\u001b[0m\u001b[0;34m=\u001b[0m\u001b[0mrészgráf\u001b[0m\u001b[0;34m(\u001b[0m\u001b[0mG\u001b[0m\u001b[0;34m,\u001b[0m\u001b[0mosztály\u001b[0m\u001b[0;34m)\u001b[0m\u001b[0;34m\u001b[0m\u001b[0;34m\u001b[0m\u001b[0m\n\u001b[1;32m     18\u001b[0m \u001b[0;34m\u001b[0m\u001b[0m\n\u001b[0;32m---> 19\u001b[0;31m \u001b[0;34m(\u001b[0m\u001b[0mosztály2\u001b[0m\u001b[0;34m,\u001b[0m \u001b[0mfeszültség2\u001b[0m\u001b[0;34m)\u001b[0m \u001b[0;34m=\u001b[0m \u001b[0mlabProp\u001b[0m\u001b[0;34m(\u001b[0m\u001b[0mhG\u001b[0m\u001b[0;34m,\u001b[0m \u001b[0mvéletlen\u001b[0m\u001b[0;34m,\u001b[0m \u001b[0móvatos\u001b[0m\u001b[0;34m,\u001b[0m \u001b[0;32mlambda\u001b[0m \u001b[0mx\u001b[0m\u001b[0;34m:\u001b[0m \u001b[0mx\u001b[0m\u001b[0;34m>\u001b[0m\u001b[0;36m0.01\u001b[0m\u001b[0;34m)\u001b[0m\u001b[0;34m\u001b[0m\u001b[0;34m\u001b[0m\u001b[0m\n\u001b[0m\u001b[1;32m     20\u001b[0m \u001b[0mplt\u001b[0m\u001b[0;34m.\u001b[0m\u001b[0mplot\u001b[0m\u001b[0;34m(\u001b[0m\u001b[0mrange\u001b[0m\u001b[0;34m(\u001b[0m\u001b[0mlen\u001b[0m\u001b[0;34m(\u001b[0m\u001b[0mfeszültség2\u001b[0m\u001b[0;34m)\u001b[0m\u001b[0;34m)\u001b[0m\u001b[0;34m,\u001b[0m\u001b[0mfeszültség2\u001b[0m\u001b[0;34m,\u001b[0m \u001b[0mms\u001b[0m\u001b[0;34m=\u001b[0m\u001b[0;36m10\u001b[0m\u001b[0;34m)\u001b[0m\u001b[0;34m\u001b[0m\u001b[0;34m\u001b[0m\u001b[0m\n\u001b[1;32m     21\u001b[0m \u001b[0mmarad0\u001b[0m \u001b[0;34m=\u001b[0m \u001b[0mlen\u001b[0m\u001b[0;34m(\u001b[0m\u001b[0mset\u001b[0m\u001b[0;34m(\u001b[0m\u001b[0mosztály2\u001b[0m\u001b[0;34m)\u001b[0m\u001b[0;34m)\u001b[0m\u001b[0;34m\u001b[0m\u001b[0;34m\u001b[0m\u001b[0m\n",
      "\u001b[0;32m<ipython-input-5-0dc8a62264f4>\u001b[0m in \u001b[0;36mlabProp\u001b[0;34m(G, sorrend, csatlakozás, th)\u001b[0m\n\u001b[1;32m     17\u001b[0m     \u001b[0;32mreturn\u001b[0m \u001b[0mvolt\u001b[0m\u001b[0;34m\u001b[0m\u001b[0;34m\u001b[0m\u001b[0m\n\u001b[1;32m     18\u001b[0m \u001b[0;34m\u001b[0m\u001b[0m\n\u001b[0;32m---> 19\u001b[0;31m   \u001b[0;32mwhile\u001b[0m \u001b[0megyKör\u001b[0m\u001b[0;34m(\u001b[0m\u001b[0;34m)\u001b[0m \u001b[0;34m==\u001b[0m \u001b[0;32mTrue\u001b[0m \u001b[0;32mand\u001b[0m \u001b[0mfeszültség\u001b[0m\u001b[0;34m[\u001b[0m\u001b[0;34m-\u001b[0m\u001b[0;36m1\u001b[0m\u001b[0;34m]\u001b[0m\u001b[0;34m/\u001b[0m\u001b[0;34m(\u001b[0m\u001b[0;36m2\u001b[0m\u001b[0;34m*\u001b[0m\u001b[0mnE\u001b[0m\u001b[0;34m)\u001b[0m\u001b[0;34m>\u001b[0m\u001b[0mth\u001b[0m\u001b[0;34m:\u001b[0m\u001b[0;34m\u001b[0m\u001b[0;34m\u001b[0m\u001b[0m\n\u001b[0m\u001b[1;32m     20\u001b[0m       \u001b[0;32mpass\u001b[0m\u001b[0;34m\u001b[0m\u001b[0;34m\u001b[0m\u001b[0m\n\u001b[1;32m     21\u001b[0m \u001b[0;34m\u001b[0m\u001b[0m\n",
      "\u001b[0;31mTypeError\u001b[0m: '>' not supported between instances of 'float' and 'function'"
     ]
    }
   ],
   "source": [
    "def részgráf(G,osztály):\n",
    "  hG=nx.Graph()\n",
    "  ret=[[0,0,0] for _ in range(1+max(osztály))] \n",
    "  for v in G.nodes():\n",
    "    vo=osztály[v]\n",
    "    szo=set([osztály[szomszéd] for szomszéd in G.neighbors(v) if osztály[szomszéd] != vo])\n",
    "    degv=sum([osztály[szomszéd]==vo for szomszéd in G.neighbors(v)]) \n",
    "    ret[vo][0]+=degv \n",
    "    ret[vo][1]+=degv*degv \n",
    "    ret[vo][2]+=1\n",
    "    for w in szo:\n",
    "      hG.add_edge(vo,w)\n",
    "    \n",
    "  return ret, hG\n",
    "\n",
    "\n",
    "_, hG=részgráf(G,osztály)\n",
    "\n",
    "(osztály2, feszültség2) = labProp(hG, véletlen, óvatos, 0.01)\n",
    "plt.plot(range(len(feszültség2)),feszültség2, ms=10)\n",
    "marad0 = len(set(osztály2))\n",
    "utómunka(hG,osztály2)\n",
    "marad = len(set(osztály2))\n",
    "print(marad-marad0, marad, feszültség2[-1]/(2*hG.number_of_edges()))    \n"
   ]
  },
  {
   "cell_type": "code",
   "execution_count": 124,
   "metadata": {
    "ExecuteTime": {
     "end_time": "2020-06-02T14:09:51.093987Z",
     "start_time": "2020-06-02T14:09:50.960721Z"
    }
   },
   "outputs": [
    {
     "data": {
      "image/png": "[encoded data removed]",
      "text/plain": [
       "<Figure size 432x288 with 1 Axes>"
      ]
     },
     "metadata": {},
     "output_type": "display_data"
    }
   ],
   "source": [
    "_,hhG=részgráf(hG,osztály2)\n",
    "nx.draw(hhG)"
   ]
  },
  {
   "cell_type": "code",
   "execution_count": 100,
   "metadata": {
    "ExecuteTime": {
     "end_time": "2020-06-02T13:59:14.956215Z",
     "start_time": "2020-06-02T13:59:14.948421Z"
    }
   },
   "outputs": [
    {
     "ename": "NameError",
     "evalue": "name 'eredm' is not defined",
     "output_type": "error",
     "traceback": [
      "\u001b[0;31m---------------------------------------------------------------------------\u001b[0m",
      "\u001b[0;31mNameError\u001b[0m                                 Traceback (most recent call last)",
      "\u001b[0;32m<ipython-input-100-65a174a9d9eb>\u001b[0m in \u001b[0;36m<module>\u001b[0;34m\u001b[0m\n\u001b[0;32m----> 1\u001b[0;31m \u001b[0mprexy\u001b[0m\u001b[0;34m=\u001b[0m\u001b[0;34m[\u001b[0m\u001b[0mv\u001b[0m \u001b[0;32mfor\u001b[0m \u001b[0mv\u001b[0m \u001b[0;32min\u001b[0m \u001b[0meredm\u001b[0m \u001b[0;32mif\u001b[0m \u001b[0mv\u001b[0m\u001b[0;34m[\u001b[0m\u001b[0;36m2\u001b[0m\u001b[0;34m]\u001b[0m\u001b[0;34m!=\u001b[0m\u001b[0;36m0\u001b[0m\u001b[0;34m]\u001b[0m\u001b[0;34m\u001b[0m\u001b[0;34m\u001b[0m\u001b[0m\n\u001b[0m",
      "\u001b[0;31mNameError\u001b[0m: name 'eredm' is not defined"
     ]
    }
   ],
   "source": [
    "prexy=[v for v in eredm if v[2]!=0]"
   ]
  },
  {
   "cell_type": "code",
   "execution_count": 21,
   "metadata": {
    "ExecuteTime": {
     "end_time": "2020-06-01T08:13:27.646644Z",
     "start_time": "2020-06-01T08:13:27.627461Z"
    }
   },
   "outputs": [],
   "source": [
    "f=lambda x: [math.log(x[0]/(math.log(x[2])+1)), math.log(x[1]/(math.log(x[2])+1))]\n",
    "xy=list(map(f,prexy))\n"
   ]
  },
  {
   "cell_type": "code",
   "execution_count": 22,
   "metadata": {
    "ExecuteTime": {
     "end_time": "2020-06-01T08:13:28.244169Z",
     "start_time": "2020-06-01T08:13:28.050723Z"
    }
   },
   "outputs": [
    {
     "name": "stdout",
     "output_type": "stream",
     "text": [
      "y = 0.02373396276655315  +  1.5069671341919677  * x\n"
     ]
    }
   ],
   "source": [
    "from sklearn.linear_model import LinearRegression\n",
    "x = np.asarray([[p[0]] for p in xy])\n",
    "y = np.asarray([p[1] for p in xy])\n",
    "model = LinearRegression().fit(x, y)\n",
    "predict_y = model.predict(x)\n",
    "b0=model.intercept_\n",
    "b1=model.coef_\n",
    "print('y =', b0, \" + \", b1[0], \" * x\")\n"
   ]
  },
  {
   "cell_type": "code",
   "execution_count": 23,
   "metadata": {
    "ExecuteTime": {
     "end_time": "2020-06-01T08:13:28.832383Z",
     "start_time": "2020-06-01T08:13:28.802552Z"
    }
   },
   "outputs": [
    {
     "name": "stdout",
     "output_type": "stream",
     "text": [
      "corr:  0.9946     coef:  0.9893\n",
      "max: 0.5111     rss: 0.0369\n"
     ]
    }
   ],
   "source": [
    "r_sq = model.score(x, y)\n",
    "print('corr: ', end=' ')\n",
    "print(format(np.corrcoef([p[0] for p in xy],[p[1] for p in xy])[0,1],'.4f'), end='     ')\n",
    "print('coef: ', end=' ')\n",
    "print(format( r_sq, '.4f'))\n",
    "\n",
    "print('max: ', end='')\n",
    "print(format(np.max(y-predict_y), '.4f'),end='     ')\n",
    "rss=np.average(np.square(y-predict_y))\n",
    "print('rss: ', end='')\n",
    "print(format(rss,'.4f'))"
   ]
  },
  {
   "cell_type": "code",
   "execution_count": 24,
   "metadata": {
    "ExecuteTime": {
     "end_time": "2020-06-01T08:13:29.674958Z",
     "start_time": "2020-06-01T08:13:29.671242Z"
    }
   },
   "outputs": [],
   "source": [
    "#plt.show()\n",
    "#nx.draw(G, with_labels=False, node_color = oszt)\n",
    "#plt.savefig(\"15_soc-hamsterster.edges_network.png\")\n",
    "\n",
    "#plt.scatter([p[0] for p in xy],[p[1] for p in xy])\n",
    "#t = np.arange(0., 4, 0.2)\n",
    "#plt.plot(t, b0+b1*t, 'r--')\n",
    "#plt.axis([0, 5, 0, 5])\n",
    "#plt.savefig(\"14_soc-hamsterster.png\")\n"
   ]
  },
  {
   "cell_type": "code",
   "execution_count": 25,
   "metadata": {
    "ExecuteTime": {
     "end_time": "2020-06-01T08:13:30.347366Z",
     "start_time": "2020-06-01T08:13:30.138176Z"
    }
   },
   "outputs": [
    {
     "name": "stdout",
     "output_type": "stream",
     "text": [
      "max: 0.5111     rss: 0.0369\n"
     ]
    },
    {
     "data": {
      "text/plain": [
       "[<matplotlib.lines.Line2D at 0x7f9d8f6b1250>]"
      ]
     },
     "execution_count": 25,
     "metadata": {},
     "output_type": "execute_result"
    },
    {
     "data": {
      "image/png": "[encoded data removed]",
      "text/plain": [
       "<Figure size 432x288 with 1 Axes>"
      ]
     },
     "metadata": {
      "needs_background": "light"
     },
     "output_type": "display_data"
    }
   ],
   "source": [
    "plt.scatter(x,y)\n",
    "#plt.scatter(x,predict_y)\n",
    "\n",
    "print('max: ', end='')\n",
    "print(format(np.max(y-predict_y), '.4f'),end='     ')\n",
    "#rss=np.average(np.square(y-predict_y))\n",
    "print('rss: ', end='')\n",
    "print(format(rss,'.4f'))\n",
    "#plt.axis([0, 5, 0, 9])\n",
    "\n",
    "t = np.arange(0., 9, 0.2)\n",
    "plt.plot(t, b0+b1*t, 'r--')\n",
    "#plt.savefig(\"14_soc-hamsterster_line.png\")\n",
    "\n"
   ]
  },
  {
   "cell_type": "code",
   "execution_count": null,
   "metadata": {},
   "outputs": [],
   "source": []
  },
  {
   "cell_type": "code",
   "execution_count": null,
   "metadata": {},
   "outputs": [],
   "source": []
  }
 ],
 "metadata": {
  "kernelspec": {
   "display_name": "Python 3",
   "language": "python",
   "name": "python3"
  },
  "language_info": {
   "codemirror_mode": {
    "name": "ipython",
    "version": 3
   },
   "file_extension": ".py",
   "mimetype": "text/x-python",
   "name": "python",
   "nbconvert_exporter": "python",
   "pygments_lexer": "ipython3",
   "version": "3.7.6"
  },
  "latex_envs": {
   "LaTeX_envs_menu_present": true,
   "autoclose": false,
   "autocomplete": true,
   "bibliofile": "biblio.bib",
   "cite_by": "apalike",
   "current_citInitial": 1,
   "eqLabelWithNumbers": false,
   "eqNumInitial": 1,
   "hotkeys": {
    "equation": "Ctrl-E",
    "itemize": "Ctrl-I"
   },
   "labels_anchors": false,
   "latex_user_defs": false,
   "report_style_numbering": false,
   "user_envs_cfg": false
  },
  "toc": {
   "base_numbering": 1,
   "nav_menu": {},
   "number_sections": true,
   "sideBar": true,
   "skip_h1_title": true,
   "title_cell": "Table of Contents",
   "title_sidebar": "Contents",
   "toc_cell": false,
   "toc_position": {},
   "toc_section_display": true,
   "toc_window_display": false
  }
 },
 "nbformat": 4,
 "nbformat_minor": 2
}
